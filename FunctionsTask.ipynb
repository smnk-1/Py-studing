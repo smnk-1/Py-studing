{
 "cells": [
  {
   "cell_type": "markdown",
   "id": "cffd1909",
   "metadata": {},
   "source": [
    "# Задание №1. Собственные функции"
   ]
  },
  {
   "cell_type": "markdown",
   "id": "bcd3d2a0",
   "metadata": {},
   "source": [
    "## 1. Функция статистики числового списка\n",
    "Напишите функцию analyze_numbers(lst), которая принимает список чисел и\n",
    "возвращает кортеж с минимальным, максимальным, суммарным и средним\n",
    "значениями.\n",
    "Особенности: Если список пустой, вернуть кортеж с четырьмя значениями None."
   ]
  },
  {
   "cell_type": "code",
   "execution_count": 30,
   "id": "30d4f442",
   "metadata": {},
   "outputs": [],
   "source": [
    "def analyze_numbers(lst):\n",
    "    try:\n",
    "        if len(lst) != 0:\n",
    "            return (min(lst), max(lst), sum(lst), sum(lst)/len(lst))\n",
    "        else:\n",
    "            return (None, None, None, None)\n",
    "    except Exception as e:\n",
    "        return e"
   ]
  },
  {
   "cell_type": "code",
   "execution_count": 31,
   "id": "41da4b11",
   "metadata": {},
   "outputs": [
    {
     "data": {
      "text/plain": [
       "(None, None, None, None)"
      ]
     },
     "execution_count": 31,
     "metadata": {},
     "output_type": "execute_result"
    }
   ],
   "source": [
    "analyze_numbers([])"
   ]
  },
  {
   "cell_type": "code",
   "execution_count": 32,
   "id": "92d0d3cb",
   "metadata": {},
   "outputs": [
    {
     "data": {
      "text/plain": [
       "TypeError(\"unsupported operand type(s) for +: 'int' and 'NoneType'\")"
      ]
     },
     "execution_count": 32,
     "metadata": {},
     "output_type": "execute_result"
    }
   ],
   "source": [
    "analyze_numbers([None])"
   ]
  },
  {
   "cell_type": "code",
   "execution_count": 33,
   "id": "8d82254d",
   "metadata": {},
   "outputs": [
    {
     "data": {
      "text/plain": [
       "(0, 934, 1391, 231.83333333333334)"
      ]
     },
     "execution_count": 33,
     "metadata": {},
     "output_type": "execute_result"
    }
   ],
   "source": [
    "analyze_numbers([1, 934,123, 234, 99, 0])"
   ]
  },
  {
   "cell_type": "markdown",
   "id": "ded52f90",
   "metadata": {},
   "source": [
    "## 2. Функция частотного анализа символов\n",
    "Напишите функцию char_frequency(text), которая принимает строку и возвращает\n",
    "словарь, где ключи — уникальные символы (без учета регистра, игнорируя пробелы и\n",
    "пунктуацию), а значения — число их вхождений в строку."
   ]
  },
  {
   "cell_type": "code",
   "execution_count": 34,
   "id": "12f84ea6",
   "metadata": {},
   "outputs": [],
   "source": [
    "def char_frequency(text: str):\n",
    "    punct = [',', '.', '!', '?', ' ']\n",
    "    try: \n",
    "        punct = [',', '.', '!', '?', ' ']\n",
    "        for p in punct:\n",
    "            text = text.replace(p, '')\n",
    "        return {char: text.count(char) for char in text}\n",
    "    except Exception as e:\n",
    "        return e"
   ]
  },
  {
   "cell_type": "code",
   "execution_count": 35,
   "id": "4473bae1",
   "metadata": {},
   "outputs": [
    {
     "data": {
      "text/plain": [
       "{}"
      ]
     },
     "execution_count": 35,
     "metadata": {},
     "output_type": "execute_result"
    }
   ],
   "source": [
    "char_frequency('')"
   ]
  },
  {
   "cell_type": "code",
   "execution_count": 36,
   "id": "85bed5fe",
   "metadata": {},
   "outputs": [
    {
     "data": {
      "text/plain": [
       "AttributeError(\"'NoneType' object has no attribute 'replace'\")"
      ]
     },
     "execution_count": 36,
     "metadata": {},
     "output_type": "execute_result"
    }
   ],
   "source": [
    "char_frequency(None)"
   ]
  },
  {
   "cell_type": "code",
   "execution_count": 37,
   "id": "34139303",
   "metadata": {},
   "outputs": [
    {
     "data": {
      "text/plain": [
       "{'a': 1, 's': 1, 'g': 2, 'm': 1, 'S': 2, 'G': 2, 'd': 1, 'k': 1, 'j': 1}"
      ]
     },
     "execution_count": 37,
     "metadata": {},
     "output_type": "execute_result"
    }
   ],
   "source": [
    "char_frequency('as.gm.SGSGdkgj!')"
   ]
  },
  {
   "cell_type": "markdown",
   "id": "f5b3afb2",
   "metadata": {},
   "source": [
    "## 3. Функция фильтрации строк по длине с аргументом по умолчанию\n",
    "Напишите функцию filter_long_words(words, min_length=5), которая принимает список\n",
    "строк и возвращает список слов, длина которых строго больше min_length. Если\n",
    "аргумент min_length не указан, использовать значение 5."
   ]
  },
  {
   "cell_type": "code",
   "execution_count": null,
   "id": "a255b232",
   "metadata": {},
   "outputs": [],
   "source": [
    "def filter_long_words(words, min_length=5):\n",
    "    return [word for word in words if len(word)>min_length]"
   ]
  },
  {
   "cell_type": "code",
   "execution_count": 3,
   "id": "86dbaa40",
   "metadata": {},
   "outputs": [
    {
     "data": {
      "text/plain": [
       "['fdgfdgdsgsd', 'small word']"
      ]
     },
     "execution_count": 3,
     "metadata": {},
     "output_type": "execute_result"
    }
   ],
   "source": [
    "filter_long_words([\n",
    "    \"fdgfdgdsgsd\",\n",
    "    \"word\",\n",
    "    \"a\",\n",
    "    \"small word\"\n",
    "])"
   ]
  },
  {
   "cell_type": "markdown",
   "id": "dd6d8718",
   "metadata": {},
   "source": [
    "# Задание №2. Рекурсия "
   ]
  },
  {
   "cell_type": "markdown",
   "id": "3756fda2",
   "metadata": {},
   "source": [
    "## 1. Рекурсивное вычисление факториала \n",
    "Напишите функцию factorial(n), которая принимает неотрицательное целое число n и \n",
    "возвращает его факториал. Если n < 0, функция должна вернуть сообщение об \n",
    "ошибке."
   ]
  },
  {
   "cell_type": "code",
   "execution_count": 8,
   "id": "e106582e",
   "metadata": {},
   "outputs": [],
   "source": [
    "def factorial(n):\n",
    "    if n < 0:\n",
    "        return Exception(\"n must be positive\")\n",
    "    if n == 0:\n",
    "        return 1\n",
    "    return n*factorial(n-1)"
   ]
  },
  {
   "cell_type": "code",
   "execution_count": 9,
   "id": "438024c5",
   "metadata": {},
   "outputs": [
    {
     "data": {
      "text/plain": [
       "Exception('n must be positive')"
      ]
     },
     "execution_count": 9,
     "metadata": {},
     "output_type": "execute_result"
    }
   ],
   "source": [
    "factorial(-1)"
   ]
  },
  {
   "cell_type": "code",
   "execution_count": 10,
   "id": "917afa9b",
   "metadata": {},
   "outputs": [
    {
     "data": {
      "text/plain": [
       "1"
      ]
     },
     "execution_count": 10,
     "metadata": {},
     "output_type": "execute_result"
    }
   ],
   "source": [
    "factorial(0)"
   ]
  },
  {
   "cell_type": "code",
   "execution_count": 11,
   "id": "40d78b82",
   "metadata": {},
   "outputs": [
    {
     "data": {
      "text/plain": [
       "120"
      ]
     },
     "execution_count": 11,
     "metadata": {},
     "output_type": "execute_result"
    }
   ],
   "source": [
    "factorial(5)"
   ]
  },
  {
   "cell_type": "markdown",
   "id": "f9e6cda7",
   "metadata": {},
   "source": [
    "## 2. Рекурсивное вычисление n-го числа Фибоначчи \n",
    "Напишите функцию fibonacci(n), которая возвращает n-е число Фибоначчи (считаем, \n",
    "что первые два числа равны 0 и 1). Учтите базовые случаи и обеспечьте корректную \n",
    "работу для n ≥ 0."
   ]
  },
  {
   "cell_type": "code",
   "execution_count": 21,
   "id": "70519172",
   "metadata": {},
   "outputs": [],
   "source": [
    "def fibonacci(n):\n",
    "    if n < 0:\n",
    "        return Exception(\"n must be positive\")\n",
    "    if n == 0:\n",
    "        return 0\n",
    "    if n == 1:\n",
    "        return 1\n",
    "    return fibonacci(n-1) + fibonacci(n-2)"
   ]
  },
  {
   "cell_type": "code",
   "execution_count": 22,
   "id": "a4fca826",
   "metadata": {},
   "outputs": [
    {
     "name": "stdout",
     "output_type": "stream",
     "text": [
      "0\n",
      "1\n",
      "1\n",
      "2\n",
      "3\n",
      "5\n",
      "8\n",
      "13\n",
      "21\n",
      "34\n",
      "55\n"
     ]
    }
   ],
   "source": [
    "for i in range(0, 11):\n",
    "    print(fibonacci(i))"
   ]
  },
  {
   "cell_type": "markdown",
   "id": "8a00090d",
   "metadata": {},
   "source": [
    "## 3. Рекурсивный разворот строки \n",
    "Напишите функцию reverse_str(s), которая принимает строку s и возвращает новую \n",
    "81 \n",
    "строку с символами в обратном порядке. Решите задачу без использования срезов и \n",
    "встроенных функций реверса. "
   ]
  }
 ],
 "metadata": {
  "kernelspec": {
   "display_name": ".venv",
   "language": "python",
   "name": "python3"
  },
  "language_info": {
   "codemirror_mode": {
    "name": "ipython",
    "version": 3
   },
   "file_extension": ".py",
   "mimetype": "text/x-python",
   "name": "python",
   "nbconvert_exporter": "python",
   "pygments_lexer": "ipython3",
   "version": "3.12.10"
  }
 },
 "nbformat": 4,
 "nbformat_minor": 5
}
