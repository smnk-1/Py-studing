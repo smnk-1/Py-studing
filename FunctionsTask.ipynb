{
 "cells": [
  {
   "cell_type": "markdown",
   "id": "cffd1909",
   "metadata": {},
   "source": [
    "# Задание №1. Собственные функции"
   ]
  },
  {
   "cell_type": "markdown",
   "id": "bcd3d2a0",
   "metadata": {},
   "source": [
    "## 1. Функция статистики числового списка\n",
    "Напишите функцию analyze_numbers(lst), которая принимает список чисел и\n",
    "возвращает кортеж с минимальным, максимальным, суммарным и средним\n",
    "значениями.\n",
    "Особенности: Если список пустой, вернуть кортеж с четырьмя значениями None."
   ]
  },
  {
   "cell_type": "code",
   "execution_count": 67,
   "id": "30d4f442",
   "metadata": {},
   "outputs": [],
   "source": [
    "def analyze_numbers(lst):\n",
    "    try:\n",
    "        if len(lst) != 0:\n",
    "            return (min(lst), max(lst), sum(lst), sum(lst)/len(lst))\n",
    "        else:\n",
    "            return (None, None, None, None)\n",
    "    except Exception as e:\n",
    "        return e"
   ]
  },
  {
   "cell_type": "code",
   "execution_count": 68,
   "id": "41da4b11",
   "metadata": {},
   "outputs": [
    {
     "data": {
      "text/plain": [
       "(None, None, None, None)"
      ]
     },
     "execution_count": 68,
     "metadata": {},
     "output_type": "execute_result"
    }
   ],
   "source": [
    "analyze_numbers([])"
   ]
  },
  {
   "cell_type": "code",
   "execution_count": 69,
   "id": "92d0d3cb",
   "metadata": {},
   "outputs": [
    {
     "data": {
      "text/plain": [
       "TypeError(\"unsupported operand type(s) for +: 'int' and 'NoneType'\")"
      ]
     },
     "execution_count": 69,
     "metadata": {},
     "output_type": "execute_result"
    }
   ],
   "source": [
    "analyze_numbers([None])"
   ]
  },
  {
   "cell_type": "code",
   "execution_count": 70,
   "id": "8d82254d",
   "metadata": {},
   "outputs": [
    {
     "data": {
      "text/plain": [
       "(0, 934, 1391, 231.83333333333334)"
      ]
     },
     "execution_count": 70,
     "metadata": {},
     "output_type": "execute_result"
    }
   ],
   "source": [
    "analyze_numbers([1, 934,123, 234, 99, 0])"
   ]
  },
  {
   "cell_type": "markdown",
   "id": "ded52f90",
   "metadata": {},
   "source": [
    "## 2. Функция частотного анализа символов\n",
    "Напишите функцию char_frequency(text), которая принимает строку и возвращает\n",
    "словарь, где ключи — уникальные символы (без учета регистра, игнорируя пробелы и\n",
    "пунктуацию), а значения — число их вхождений в строку."
   ]
  },
  {
   "cell_type": "code",
   "execution_count": 71,
   "id": "12f84ea6",
   "metadata": {},
   "outputs": [],
   "source": [
    "def char_frequency(text: str):\n",
    "    punct = [',', '.', '!', '?', ' ']\n",
    "    try: \n",
    "        punct = [',', '.', '!', '?', ' ']\n",
    "        for p in punct:\n",
    "            text = text.replace(p, '')\n",
    "        return {char: text.count(char) for char in text}\n",
    "    except Exception as e:\n",
    "        return e"
   ]
  },
  {
   "cell_type": "code",
   "execution_count": 72,
   "id": "4473bae1",
   "metadata": {},
   "outputs": [
    {
     "data": {
      "text/plain": [
       "{}"
      ]
     },
     "execution_count": 72,
     "metadata": {},
     "output_type": "execute_result"
    }
   ],
   "source": [
    "char_frequency('')"
   ]
  },
  {
   "cell_type": "code",
   "execution_count": 73,
   "id": "85bed5fe",
   "metadata": {},
   "outputs": [
    {
     "data": {
      "text/plain": [
       "AttributeError(\"'NoneType' object has no attribute 'replace'\")"
      ]
     },
     "execution_count": 73,
     "metadata": {},
     "output_type": "execute_result"
    }
   ],
   "source": [
    "char_frequency(None)"
   ]
  },
  {
   "cell_type": "code",
   "execution_count": 74,
   "id": "34139303",
   "metadata": {},
   "outputs": [
    {
     "data": {
      "text/plain": [
       "{'a': 1, 's': 1, 'g': 2, 'm': 1, 'S': 2, 'G': 2, 'd': 1, 'k': 1, 'j': 1}"
      ]
     },
     "execution_count": 74,
     "metadata": {},
     "output_type": "execute_result"
    }
   ],
   "source": [
    "char_frequency('as.gm.SGSGdkgj!')"
   ]
  },
  {
   "cell_type": "markdown",
   "id": "f5b3afb2",
   "metadata": {},
   "source": [
    "## 3. Функция фильтрации строк по длине с аргументом по умолчанию\n",
    "Напишите функцию filter_long_words(words, min_length=5), которая принимает список\n",
    "строк и возвращает список слов, длина которых строго больше min_length. Если\n",
    "аргумент min_length не указан, использовать значение 5."
   ]
  },
  {
   "cell_type": "code",
   "execution_count": 75,
   "id": "a255b232",
   "metadata": {},
   "outputs": [],
   "source": [
    "def filter_long_words(words, min_length=5):\n",
    "    return [word for word in words if len(word)>min_length]"
   ]
  },
  {
   "cell_type": "code",
   "execution_count": 76,
   "id": "86dbaa40",
   "metadata": {},
   "outputs": [
    {
     "data": {
      "text/plain": [
       "['fdgfdgdsgsd', 'small word']"
      ]
     },
     "execution_count": 76,
     "metadata": {},
     "output_type": "execute_result"
    }
   ],
   "source": [
    "filter_long_words([\n",
    "    \"fdgfdgdsgsd\",\n",
    "    \"word\",\n",
    "    \"a\",\n",
    "    \"small word\"\n",
    "])"
   ]
  },
  {
   "cell_type": "markdown",
   "id": "dd6d8718",
   "metadata": {},
   "source": [
    "# Задание №2. Рекурсия "
   ]
  },
  {
   "cell_type": "markdown",
   "id": "3756fda2",
   "metadata": {},
   "source": [
    "## 1. Рекурсивное вычисление факториала \n",
    "Напишите функцию factorial(n), которая принимает неотрицательное целое число n и \n",
    "возвращает его факториал. Если n < 0, функция должна вернуть сообщение об \n",
    "ошибке."
   ]
  },
  {
   "cell_type": "code",
   "execution_count": 77,
   "id": "e106582e",
   "metadata": {},
   "outputs": [],
   "source": [
    "def factorial(n):\n",
    "    if n < 0:\n",
    "        return Exception(\"n must be positive\")\n",
    "    if n == 0:\n",
    "        return 1\n",
    "    return n*factorial(n-1)"
   ]
  },
  {
   "cell_type": "code",
   "execution_count": 78,
   "id": "438024c5",
   "metadata": {},
   "outputs": [
    {
     "data": {
      "text/plain": [
       "Exception('n must be positive')"
      ]
     },
     "execution_count": 78,
     "metadata": {},
     "output_type": "execute_result"
    }
   ],
   "source": [
    "factorial(-1)"
   ]
  },
  {
   "cell_type": "code",
   "execution_count": 79,
   "id": "917afa9b",
   "metadata": {},
   "outputs": [
    {
     "data": {
      "text/plain": [
       "1"
      ]
     },
     "execution_count": 79,
     "metadata": {},
     "output_type": "execute_result"
    }
   ],
   "source": [
    "factorial(0)"
   ]
  },
  {
   "cell_type": "code",
   "execution_count": 80,
   "id": "40d78b82",
   "metadata": {},
   "outputs": [
    {
     "data": {
      "text/plain": [
       "120"
      ]
     },
     "execution_count": 80,
     "metadata": {},
     "output_type": "execute_result"
    }
   ],
   "source": [
    "factorial(5)"
   ]
  },
  {
   "cell_type": "markdown",
   "id": "f9e6cda7",
   "metadata": {},
   "source": [
    "## 2. Рекурсивное вычисление n-го числа Фибоначчи \n",
    "Напишите функцию fibonacci(n), которая возвращает n-е число Фибоначчи (считаем, \n",
    "что первые два числа равны 0 и 1). Учтите базовые случаи и обеспечьте корректную \n",
    "работу для n ≥ 0."
   ]
  },
  {
   "cell_type": "code",
   "execution_count": 81,
   "id": "70519172",
   "metadata": {},
   "outputs": [],
   "source": [
    "def fibonacci(n):\n",
    "    if n < 0:\n",
    "        return Exception(\"n must be positive\")\n",
    "    if n == 0:\n",
    "        return 0\n",
    "    if n == 1:\n",
    "        return 1\n",
    "    return fibonacci(n-1) + fibonacci(n-2)"
   ]
  },
  {
   "cell_type": "code",
   "execution_count": 82,
   "id": "a4fca826",
   "metadata": {},
   "outputs": [
    {
     "name": "stdout",
     "output_type": "stream",
     "text": [
      "0\n",
      "1\n",
      "1\n",
      "2\n",
      "3\n",
      "5\n",
      "8\n",
      "13\n",
      "21\n",
      "34\n",
      "55\n"
     ]
    }
   ],
   "source": [
    "for i in range(0, 11):\n",
    "    print(fibonacci(i))"
   ]
  },
  {
   "cell_type": "markdown",
   "id": "8a00090d",
   "metadata": {},
   "source": [
    "## 3. Рекурсивный разворот строки \n",
    "Напишите функцию reverse_str(s), которая принимает строку s и возвращает новую \n",
    "81 \n",
    "строку с символами в обратном порядке. Решите задачу без использования срезов и \n",
    "встроенных функций реверса. "
   ]
  },
  {
   "cell_type": "code",
   "execution_count": 83,
   "id": "b19f91d0",
   "metadata": {},
   "outputs": [],
   "source": [
    "def reverse_str(s):\n",
    "    try:\n",
    "        if len(s) <= 1:\n",
    "            return s\n",
    "        s_1, *s_other = s\n",
    "        return reverse_str(''.join(s_other)) + s_1\n",
    "    except Exception as e:\n",
    "        print(e)"
   ]
  },
  {
   "cell_type": "code",
   "execution_count": 84,
   "id": "ff2069d4",
   "metadata": {},
   "outputs": [
    {
     "data": {
      "text/plain": [
       "'a'"
      ]
     },
     "execution_count": 84,
     "metadata": {},
     "output_type": "execute_result"
    }
   ],
   "source": [
    "reverse_str(\"a\")"
   ]
  },
  {
   "cell_type": "code",
   "execution_count": 85,
   "id": "5edba6f2",
   "metadata": {},
   "outputs": [
    {
     "data": {
      "text/plain": [
       "'cba'"
      ]
     },
     "execution_count": 85,
     "metadata": {},
     "output_type": "execute_result"
    }
   ],
   "source": [
    "reverse_str(\"abc\")"
   ]
  },
  {
   "cell_type": "code",
   "execution_count": 86,
   "id": "7f4965c5",
   "metadata": {},
   "outputs": [
    {
     "data": {
      "text/plain": [
       "''"
      ]
     },
     "execution_count": 86,
     "metadata": {},
     "output_type": "execute_result"
    }
   ],
   "source": [
    "reverse_str(\"\")"
   ]
  },
  {
   "cell_type": "markdown",
   "id": "473a8632",
   "metadata": {},
   "source": [
    "# Задание №3. Функции высших порядков"
   ]
  },
  {
   "cell_type": "markdown",
   "id": "0f9a14fa",
   "metadata": {},
   "source": [
    "## 1. Apply twice"
   ]
  },
  {
   "cell_type": "code",
   "execution_count": 87,
   "id": "eaecb502",
   "metadata": {},
   "outputs": [],
   "source": [
    "def apply_twice(f, x):\n",
    "    return f(f(x))"
   ]
  },
  {
   "cell_type": "code",
   "execution_count": 88,
   "id": "e0b66129",
   "metadata": {},
   "outputs": [
    {
     "name": "stdout",
     "output_type": "stream",
     "text": [
      "10\n"
     ]
    }
   ],
   "source": [
    "print(apply_twice(lambda x: x+3, 4))"
   ]
  },
  {
   "cell_type": "markdown",
   "id": "263adb97",
   "metadata": {},
   "source": [
    "## 2. Custom map"
   ]
  },
  {
   "cell_type": "code",
   "execution_count": 89,
   "id": "695675a4",
   "metadata": {},
   "outputs": [],
   "source": [
    "def custom_map(f, array):\n",
    "    return [f(x) for x in array]"
   ]
  },
  {
   "cell_type": "code",
   "execution_count": 90,
   "id": "980cee91",
   "metadata": {},
   "outputs": [
    {
     "name": "stdout",
     "output_type": "stream",
     "text": [
      "[2, 4, 6]\n"
     ]
    }
   ],
   "source": [
    "print(custom_map(lambda x: x*2, [1, 2, 3]))"
   ]
  },
  {
   "cell_type": "markdown",
   "id": "7aab7b31",
   "metadata": {},
   "source": [
    "## 3. Custom filter"
   ]
  },
  {
   "cell_type": "code",
   "execution_count": 91,
   "id": "d932350f",
   "metadata": {},
   "outputs": [],
   "source": [
    "def custom_filter(predicate, iterable, invert=False):\n",
    "    if invert:\n",
    "        return [i for i in iterable if not predicate(i)]\n",
    "    else:\n",
    "        return [i for i in iterable if predicate(i)]"
   ]
  },
  {
   "cell_type": "code",
   "execution_count": 92,
   "id": "eb089cc9",
   "metadata": {},
   "outputs": [
    {
     "name": "stdout",
     "output_type": "stream",
     "text": [
      "['12345', 'test']\n"
     ]
    }
   ],
   "source": [
    "print(custom_filter(lambda x: len(x) > 3, ['123', '12345', 'test']))"
   ]
  },
  {
   "cell_type": "markdown",
   "id": "0796cec6",
   "metadata": {},
   "source": [
    "# Задание №4. Декораторы"
   ]
  },
  {
   "cell_type": "markdown",
   "id": "887e939b",
   "metadata": {},
   "source": [
    "## 1. Декоратор измерения времени выполнения (time_it)"
   ]
  },
  {
   "cell_type": "code",
   "execution_count": 93,
   "id": "35644c4e",
   "metadata": {},
   "outputs": [],
   "source": [
    "import time"
   ]
  },
  {
   "cell_type": "code",
   "execution_count": 94,
   "id": "99ed90ae",
   "metadata": {},
   "outputs": [],
   "source": [
    "def time_it(func):\n",
    "    def wrapper(*args, **kwargs):\n",
    "        start = time.time()\n",
    "        result = func(*args, **kwargs)\n",
    "        stop = time.time()\n",
    "\n",
    "        print(f\"{func.__name__}: {stop - start:.4f} sec\")\n",
    "        return result\n",
    "    return wrapper"
   ]
  },
  {
   "cell_type": "code",
   "execution_count": 95,
   "id": "8ed39ead",
   "metadata": {},
   "outputs": [],
   "source": [
    "@time_it\n",
    "def long_sum():\n",
    "    s = 0\n",
    "    for i in range(0, 10**7):\n",
    "        s += 1\n",
    "    print(s)"
   ]
  },
  {
   "cell_type": "code",
   "execution_count": 118,
   "id": "a15e711d",
   "metadata": {},
   "outputs": [
    {
     "data": {
      "text/plain": [
       "'wrapper'"
      ]
     },
     "execution_count": 118,
     "metadata": {},
     "output_type": "execute_result"
    }
   ],
   "source": [
    "long_sum.__name__"
   ]
  },
  {
   "cell_type": "markdown",
   "id": "39ce55d8",
   "metadata": {},
   "source": [
    "## 2. Декоратор мемоизации (cache)"
   ]
  },
  {
   "cell_type": "code",
   "execution_count": 97,
   "id": "106a9ea5",
   "metadata": {},
   "outputs": [],
   "source": [
    "def memorize(f):\n",
    "    cached_data = {}\n",
    "\n",
    "    def wrapper(*args):\n",
    "        if args not in cached_data:\n",
    "            cached_data[args] = f(*args)\n",
    "        return cached_data[args]\n",
    "    return wrapper\n",
    "\n",
    "@memorize\n",
    "def cached_fibonacci(n):\n",
    "    return fibonacci(n)\n",
    "\n",
    "@time_it\n",
    "def fib_t(n):\n",
    "    return fibonacci(n)\n",
    "\n",
    "@time_it\n",
    "def cached_fib_t(n):\n",
    "    return cached_fibonacci(n)"
   ]
  },
  {
   "cell_type": "code",
   "execution_count": 102,
   "id": "88a968e9",
   "metadata": {},
   "outputs": [
    {
     "name": "stdout",
     "output_type": "stream",
     "text": [
      "fib_t: 0.6896 sec\n"
     ]
    },
    {
     "data": {
      "text/plain": [
       "3524578"
      ]
     },
     "execution_count": 102,
     "metadata": {},
     "output_type": "execute_result"
    }
   ],
   "source": [
    "fib_t(33)\n"
   ]
  },
  {
   "cell_type": "code",
   "execution_count": 105,
   "id": "a6b39677",
   "metadata": {},
   "outputs": [
    {
     "name": "stdout",
     "output_type": "stream",
     "text": [
      "cached_fib_t: 0.0000 sec\n"
     ]
    },
    {
     "data": {
      "text/plain": [
       "3524578"
      ]
     },
     "execution_count": 105,
     "metadata": {},
     "output_type": "execute_result"
    }
   ],
   "source": [
    "cached_fib_t(33)"
   ]
  },
  {
   "cell_type": "markdown",
   "id": "8f0e20cc",
   "metadata": {},
   "source": [
    "# Задание №5. Основы функционального программирования"
   ]
  },
  {
   "cell_type": "markdown",
   "id": "8bbe2242",
   "metadata": {},
   "source": [
    "## 1. Обработка списка чисел с функциональными конструкциями"
   ]
  },
  {
   "cell_type": "code",
   "execution_count": 109,
   "id": "332bd8b5",
   "metadata": {},
   "outputs": [],
   "source": [
    "from math import isqrt\n",
    "from functools import reduce"
   ]
  },
  {
   "cell_type": "code",
   "execution_count": null,
   "id": "0569c928",
   "metadata": {},
   "outputs": [],
   "source": [
    "def is_prime(n):\n",
    "    if n <= 1:\n",
    "        return False\n",
    "    if n == 2:\n",
    "        return True\n",
    "    if n % 2 == 0:\n",
    "        return False\n",
    "    for d in range(3, isqrt(n) + 1, 2):\n",
    "        if n % d == 0:\n",
    "            return False\n",
    "    return True\n",
    "\n",
    "def process_numbers(numbers):\n",
    "    primes = filter(is_prime, numbers)\n",
    "    squares = map(lambda x: x ** 2, primes)\n",
    "    return reduce(lambda x, y: x * y, squares, 1)"
   ]
  },
  {
   "cell_type": "code",
   "execution_count": 117,
   "id": "f58f8d00",
   "metadata": {},
   "outputs": [
    {
     "name": "stdout",
     "output_type": "stream",
     "text": [
      "1\n"
     ]
    }
   ],
   "source": [
    "print(process_numbers([]))"
   ]
  },
  {
   "cell_type": "code",
   "execution_count": 112,
   "id": "e7104794",
   "metadata": {},
   "outputs": [
    {
     "name": "stdout",
     "output_type": "stream",
     "text": [
      "900\n"
     ]
    }
   ],
   "source": [
    "print(process_numbers([2, 3, 4, 5])) "
   ]
  },
  {
   "cell_type": "markdown",
   "id": "960f2404",
   "metadata": {},
   "source": [
    "## 2. Обработка списка чисел с функциональными конструкциями"
   ]
  },
  {
   "cell_type": "code",
   "execution_count": 114,
   "id": "03271865",
   "metadata": {},
   "outputs": [],
   "source": [
    "def find_palindromes(words):\n",
    "    return list(filter(lambda word: word.lower() == word.lower()[::-1], words))"
   ]
  },
  {
   "cell_type": "code",
   "execution_count": 116,
   "id": "bbc0ed58",
   "metadata": {},
   "outputs": [
    {
     "data": {
      "text/plain": [
       "['aba', 'Ghuhg']"
      ]
     },
     "execution_count": 116,
     "metadata": {},
     "output_type": "execute_result"
    }
   ],
   "source": [
    "find_palindromes(\n",
    "    [\"sgdfg\",\n",
    "    \"aba\",\n",
    "    \"Ghuhg\"]\n",
    ")"
   ]
  }
 ],
 "metadata": {
  "kernelspec": {
   "display_name": ".venv",
   "language": "python",
   "name": "python3"
  },
  "language_info": {
   "codemirror_mode": {
    "name": "ipython",
    "version": 3
   },
   "file_extension": ".py",
   "mimetype": "text/x-python",
   "name": "python",
   "nbconvert_exporter": "python",
   "pygments_lexer": "ipython3",
   "version": "3.13.2"
  }
 },
 "nbformat": 4,
 "nbformat_minor": 5
}
